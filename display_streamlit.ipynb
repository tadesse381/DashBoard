{
 "cells": [
  {
   "cell_type": "code",
   "execution_count": 1,
   "id": "7c69a03b",
   "metadata": {},
   "outputs": [],
   "source": [
    "import numpy as np\n",
    "import pandas as pd\n",
    "import streamlit as st\n",
    "import altair as alt\n",
    "from wordcloud import WordCloud\n",
    "import plotly.express as px"
   ]
  },
  {
   "cell_type": "code",
   "execution_count": 2,
   "id": "ccfcd7d1",
   "metadata": {},
   "outputs": [],
   "source": [
    "st.set_page_config(page_title=\"Day 5\", layout=\"wide\")"
   ]
  },
  {
   "cell_type": "code",
   "execution_count": 3,
   "id": "89c23259",
   "metadata": {},
   "outputs": [],
   "source": [
    "def loadData():\n",
    "    #query = \"select * from tweetinformation\"\n",
    "    #df = db_execute_fetch(query, dbName=\"tweets\", rdf=True)\n",
    "    df=pd.read_csv('processed_tweet_data.csv')\n",
    "    return df"
   ]
  },
  {
   "cell_type": "code",
   "execution_count": 4,
   "id": "f55b43b2",
   "metadata": {},
   "outputs": [],
   "source": [
    "def selectHashTag():\n",
    "    df = loadData()\n",
    "    hashTags = st.multiselect(\"choose combaniation of hashtags\", list(df['hashtags'].unique()))\n",
    "    if hashTags:\n",
    "        df = df[np.isin(df, hashTags).any(axis=1)]\n",
    "        st.write(df)"
   ]
  },
  {
   "cell_type": "code",
   "execution_count": 5,
   "id": "e033f67e",
   "metadata": {},
   "outputs": [],
   "source": [
    "def selectLocAndAuth():\n",
    "    df = loadData()\n",
    "    location = st.multiselect(\"choose Location of tweets\", list(df['place_coord_boundaries'].unique()))\n",
    "    lang = st.multiselect(\"choose Language of tweets\", list(df['lang'].unique()))\n",
    "\n",
    "    if location and not lang:\n",
    "        df = df[np.isin(df, location).any(axis=1)]\n",
    "        st.write(df)\n",
    "    elif lang and not location:\n",
    "        df = df[np.isin(df, lang).any(axis=1)]\n",
    "        st.write(df)\n",
    "    elif lang and location:\n",
    "        location.extend(lang)\n",
    "        df = df[np.isin(df, location).any(axis=1)]\n",
    "        st.write(df)\n",
    "    else:\n",
    "        st.write(df)"
   ]
  },
  {
   "cell_type": "code",
   "execution_count": 6,
   "id": "8e4718ab",
   "metadata": {},
   "outputs": [],
   "source": [
    "def barChart(data, title, X, Y):\n",
    "    title = title.title()\n",
    "    st.title(f'{title} Chart')\n",
    "    msgChart = (alt.Chart(data).mark_bar().encode(alt.X(f\"{X}:N\", sort=alt.EncodingSortField(field=f\"{Y}\", op=\"values\",\n",
    "                order='ascending')), y=f\"{Y}:Q\"))\n",
    "    st.altair_chart(msgChart, use_container_width=True)"
   ]
  },
  {
   "cell_type": "code",
   "execution_count": 7,
   "id": "ad6fd8f0",
   "metadata": {},
   "outputs": [],
   "source": [
    "def wordCloud():\n",
    "    df = loadData()\n",
    "    cleanText = ''\n",
    "    for text in df['clean_text']:\n",
    "        tokens = str(text).lower().split()\n",
    "\n",
    "        cleanText += \" \".join(tokens) + \" \"\n",
    "\n",
    "    wc = WordCloud(width=650, height=450, background_color='white', min_font_size=5).generate(cleanText)\n",
    "    st.title(\"Tweet Text Word Cloud\")\n",
    "    st.image(wc.to_array())"
   ]
  },
  {
   "cell_type": "code",
   "execution_count": 8,
   "id": "f08ce712",
   "metadata": {},
   "outputs": [],
   "source": [
    "def stBarChart():\n",
    "    df = loadData()\n",
    "    dfCount = pd.DataFrame({'Tweet_count': df.groupby(['original_author'])['clean_text'].count()}).reset_index()\n",
    "    dfCount[\"original_author\"] = dfCount[\"original_author\"].astype(str)\n",
    "    dfCount = dfCount.sort_values(\"Tweet_count\", ascending=False)\n",
    "\n",
    "    num = st.slider(\"Select number of Rankings\", 0, 50, 5)\n",
    "    title = f\"Top {num} Ranking By Number of tweets\"\n",
    "    barChart(dfCount.head(num), title, \"original_author\", \"Tweet_count\")\n"
   ]
  },
  {
   "cell_type": "code",
   "execution_count": 9,
   "id": "9c577e4b",
   "metadata": {},
   "outputs": [],
   "source": [
    "def langPie():\n",
    "    df = loadData()\n",
    "    dfLangCount = pd.DataFrame({'Tweet_count': df.groupby(['lang'])['clean_text'].count()}).reset_index()\n",
    "    dfLangCount[\"lang\"] = dfLangCount[\"lang\"].astype(str)\n",
    "    dfLangCount = dfLangCount.sort_values(\"Tweet_count\", ascending=False)\n",
    "    dfLangCount.loc[dfLangCount['Tweet_count'] < 10, 'lang'] = 'Other languages'\n",
    "    st.title(\" Tweets Language pie chart\")\n",
    "    fig = px.pie(dfLangCount, values='Tweet_count', names='lang', width=500, height=350)\n",
    "    fig.update_traces(textposition='inside', textinfo='percent+label')\n",
    "\n",
    "    colB1, colB2 = st.beta_columns([2.5, 1])\n",
    "\n",
    "    with colB1:\n",
    "        st.plotly_chart(fig)\n",
    "    with colB2:\n",
    "        st.write(dfLangCount)"
   ]
  },
  {
   "cell_type": "code",
   "execution_count": 10,
   "id": "2d0b3be7",
   "metadata": {},
   "outputs": [
    {
     "name": "stderr",
     "output_type": "stream",
     "text": [
      "2022-04-30 13:17:44.607 \n",
      "  \u001b[33m\u001b[1mWarning:\u001b[0m to view this Streamlit app on a browser, run it with the following\n",
      "  command:\n",
      "\n",
      "    streamlit run C:\\Users\\user\\anaconda3\\lib\\site-packages\\ipykernel_launcher.py [ARGUMENTS]\n"
     ]
    },
    {
     "ename": "KeyError",
     "evalue": "'place_coord_boundaries'",
     "output_type": "error",
     "traceback": [
      "\u001b[1;31m---------------------------------------------------------------------------\u001b[0m",
      "\u001b[1;31mKeyError\u001b[0m                                  Traceback (most recent call last)",
      "File \u001b[1;32m~\\anaconda3\\lib\\site-packages\\pandas\\core\\indexes\\base.py:3361\u001b[0m, in \u001b[0;36mIndex.get_loc\u001b[1;34m(self, key, method, tolerance)\u001b[0m\n\u001b[0;32m   3360\u001b[0m \u001b[38;5;28;01mtry\u001b[39;00m:\n\u001b[1;32m-> 3361\u001b[0m     \u001b[38;5;28;01mreturn\u001b[39;00m \u001b[38;5;28;43mself\u001b[39;49m\u001b[38;5;241;43m.\u001b[39;49m\u001b[43m_engine\u001b[49m\u001b[38;5;241;43m.\u001b[39;49m\u001b[43mget_loc\u001b[49m\u001b[43m(\u001b[49m\u001b[43mcasted_key\u001b[49m\u001b[43m)\u001b[49m\n\u001b[0;32m   3362\u001b[0m \u001b[38;5;28;01mexcept\u001b[39;00m \u001b[38;5;167;01mKeyError\u001b[39;00m \u001b[38;5;28;01mas\u001b[39;00m err:\n",
      "File \u001b[1;32m~\\anaconda3\\lib\\site-packages\\pandas\\_libs\\index.pyx:76\u001b[0m, in \u001b[0;36mpandas._libs.index.IndexEngine.get_loc\u001b[1;34m()\u001b[0m\n",
      "File \u001b[1;32m~\\anaconda3\\lib\\site-packages\\pandas\\_libs\\index.pyx:108\u001b[0m, in \u001b[0;36mpandas._libs.index.IndexEngine.get_loc\u001b[1;34m()\u001b[0m\n",
      "File \u001b[1;32mpandas\\_libs\\hashtable_class_helper.pxi:5198\u001b[0m, in \u001b[0;36mpandas._libs.hashtable.PyObjectHashTable.get_item\u001b[1;34m()\u001b[0m\n",
      "File \u001b[1;32mpandas\\_libs\\hashtable_class_helper.pxi:5206\u001b[0m, in \u001b[0;36mpandas._libs.hashtable.PyObjectHashTable.get_item\u001b[1;34m()\u001b[0m\n",
      "\u001b[1;31mKeyError\u001b[0m: 'place_coord_boundaries'",
      "\nThe above exception was the direct cause of the following exception:\n",
      "\u001b[1;31mKeyError\u001b[0m                                  Traceback (most recent call last)",
      "Input \u001b[1;32mIn [10]\u001b[0m, in \u001b[0;36m<cell line: 4>\u001b[1;34m()\u001b[0m\n\u001b[0;32m      2\u001b[0m selectHashTag()\n\u001b[0;32m      3\u001b[0m st\u001b[38;5;241m.\u001b[39mmarkdown(\u001b[38;5;124m\"\u001b[39m\u001b[38;5;124m<p style=\u001b[39m\u001b[38;5;124m'\u001b[39m\u001b[38;5;124mpadding:10px; background-color:#000000;color:#00ECB9;font-size:16px;border-radius:10px;\u001b[39m\u001b[38;5;124m'\u001b[39m\u001b[38;5;124m>Section Break</p>\u001b[39m\u001b[38;5;124m\"\u001b[39m, unsafe_allow_html\u001b[38;5;241m=\u001b[39m\u001b[38;5;28;01mTrue\u001b[39;00m)\n\u001b[1;32m----> 4\u001b[0m \u001b[43mselectLocAndAuth\u001b[49m\u001b[43m(\u001b[49m\u001b[43m)\u001b[49m\n\u001b[0;32m      5\u001b[0m st\u001b[38;5;241m.\u001b[39mtitle(\u001b[38;5;124m\"\u001b[39m\u001b[38;5;124mData Visualizations\u001b[39m\u001b[38;5;124m\"\u001b[39m)\n\u001b[0;32m      6\u001b[0m wordCloud()\n",
      "Input \u001b[1;32mIn [5]\u001b[0m, in \u001b[0;36mselectLocAndAuth\u001b[1;34m()\u001b[0m\n\u001b[0;32m      1\u001b[0m \u001b[38;5;28;01mdef\u001b[39;00m \u001b[38;5;21mselectLocAndAuth\u001b[39m():\n\u001b[0;32m      2\u001b[0m     df \u001b[38;5;241m=\u001b[39m loadData()\n\u001b[1;32m----> 3\u001b[0m     location \u001b[38;5;241m=\u001b[39m st\u001b[38;5;241m.\u001b[39mmultiselect(\u001b[38;5;124m\"\u001b[39m\u001b[38;5;124mchoose Location of tweets\u001b[39m\u001b[38;5;124m\"\u001b[39m, \u001b[38;5;28mlist\u001b[39m(\u001b[43mdf\u001b[49m\u001b[43m[\u001b[49m\u001b[38;5;124;43m'\u001b[39;49m\u001b[38;5;124;43mplace_coord_boundaries\u001b[39;49m\u001b[38;5;124;43m'\u001b[39;49m\u001b[43m]\u001b[49m\u001b[38;5;241m.\u001b[39munique()))\n\u001b[0;32m      4\u001b[0m     lang \u001b[38;5;241m=\u001b[39m st\u001b[38;5;241m.\u001b[39mmultiselect(\u001b[38;5;124m\"\u001b[39m\u001b[38;5;124mchoose Language of tweets\u001b[39m\u001b[38;5;124m\"\u001b[39m, \u001b[38;5;28mlist\u001b[39m(df[\u001b[38;5;124m'\u001b[39m\u001b[38;5;124mlang\u001b[39m\u001b[38;5;124m'\u001b[39m]\u001b[38;5;241m.\u001b[39munique()))\n\u001b[0;32m      6\u001b[0m     \u001b[38;5;28;01mif\u001b[39;00m location \u001b[38;5;129;01mand\u001b[39;00m \u001b[38;5;129;01mnot\u001b[39;00m lang:\n",
      "File \u001b[1;32m~\\anaconda3\\lib\\site-packages\\pandas\\core\\frame.py:3455\u001b[0m, in \u001b[0;36mDataFrame.__getitem__\u001b[1;34m(self, key)\u001b[0m\n\u001b[0;32m   3453\u001b[0m \u001b[38;5;28;01mif\u001b[39;00m \u001b[38;5;28mself\u001b[39m\u001b[38;5;241m.\u001b[39mcolumns\u001b[38;5;241m.\u001b[39mnlevels \u001b[38;5;241m>\u001b[39m \u001b[38;5;241m1\u001b[39m:\n\u001b[0;32m   3454\u001b[0m     \u001b[38;5;28;01mreturn\u001b[39;00m \u001b[38;5;28mself\u001b[39m\u001b[38;5;241m.\u001b[39m_getitem_multilevel(key)\n\u001b[1;32m-> 3455\u001b[0m indexer \u001b[38;5;241m=\u001b[39m \u001b[38;5;28;43mself\u001b[39;49m\u001b[38;5;241;43m.\u001b[39;49m\u001b[43mcolumns\u001b[49m\u001b[38;5;241;43m.\u001b[39;49m\u001b[43mget_loc\u001b[49m\u001b[43m(\u001b[49m\u001b[43mkey\u001b[49m\u001b[43m)\u001b[49m\n\u001b[0;32m   3456\u001b[0m \u001b[38;5;28;01mif\u001b[39;00m is_integer(indexer):\n\u001b[0;32m   3457\u001b[0m     indexer \u001b[38;5;241m=\u001b[39m [indexer]\n",
      "File \u001b[1;32m~\\anaconda3\\lib\\site-packages\\pandas\\core\\indexes\\base.py:3363\u001b[0m, in \u001b[0;36mIndex.get_loc\u001b[1;34m(self, key, method, tolerance)\u001b[0m\n\u001b[0;32m   3361\u001b[0m         \u001b[38;5;28;01mreturn\u001b[39;00m \u001b[38;5;28mself\u001b[39m\u001b[38;5;241m.\u001b[39m_engine\u001b[38;5;241m.\u001b[39mget_loc(casted_key)\n\u001b[0;32m   3362\u001b[0m     \u001b[38;5;28;01mexcept\u001b[39;00m \u001b[38;5;167;01mKeyError\u001b[39;00m \u001b[38;5;28;01mas\u001b[39;00m err:\n\u001b[1;32m-> 3363\u001b[0m         \u001b[38;5;28;01mraise\u001b[39;00m \u001b[38;5;167;01mKeyError\u001b[39;00m(key) \u001b[38;5;28;01mfrom\u001b[39;00m \u001b[38;5;21;01merr\u001b[39;00m\n\u001b[0;32m   3365\u001b[0m \u001b[38;5;28;01mif\u001b[39;00m is_scalar(key) \u001b[38;5;129;01mand\u001b[39;00m isna(key) \u001b[38;5;129;01mand\u001b[39;00m \u001b[38;5;129;01mnot\u001b[39;00m \u001b[38;5;28mself\u001b[39m\u001b[38;5;241m.\u001b[39mhasnans:\n\u001b[0;32m   3366\u001b[0m     \u001b[38;5;28;01mraise\u001b[39;00m \u001b[38;5;167;01mKeyError\u001b[39;00m(key)\n",
      "\u001b[1;31mKeyError\u001b[0m: 'place_coord_boundaries'"
     ]
    }
   ],
   "source": [
    "st.title(\"Data Display\")\n",
    "selectHashTag()\n",
    "st.markdown(\"<p style='padding:10px; background-color:#000000;color:#00ECB9;font-size:16px;border-radius:10px;'>Section Break</p>\", unsafe_allow_html=True)\n",
    "selectLocAndAuth()\n",
    "st.title(\"Data Visualizations\")\n",
    "wordCloud()\n",
    "with st.beta_expander(\"Show More Graphs\"):\n",
    "    stBarChart()\n",
    "    langPie()\n"
   ]
  },
  {
   "cell_type": "code",
   "execution_count": null,
   "id": "8a73f0de",
   "metadata": {},
   "outputs": [],
   "source": []
  }
 ],
 "metadata": {
  "kernelspec": {
   "display_name": "Python 3 (ipykernel)",
   "language": "python",
   "name": "python3"
  },
  "language_info": {
   "codemirror_mode": {
    "name": "ipython",
    "version": 3
   },
   "file_extension": ".py",
   "mimetype": "text/x-python",
   "name": "python",
   "nbconvert_exporter": "python",
   "pygments_lexer": "ipython3",
   "version": "3.8.13"
  }
 },
 "nbformat": 4,
 "nbformat_minor": 5
}
