{
 "cells": [
  {
   "cell_type": "code",
   "execution_count": null,
   "metadata": {},
   "outputs": [],
   "source": [
    "import os\n",
    "import pandas as pd\n",
    "import mysql.connector as mysql\n",
    "from mysql.connector import Error"
   ]
  },
  {
   "cell_type": "code",
   "execution_count": null,
   "metadata": {},
   "outputs": [
    {
     "name": "stdout",
     "output_type": "stream",
     "text": [
      "<mysql.connector.connection_cext.CMySQLConnection object at 0x000002571E8342B0>\n"
     ]
    }
   ],
   "source": [
    "conn = mysql.connect(host='localhost', user='root', password='root')\n",
    "cur = conn.cursor()\n",
    "print(conn) # it will print a connection object if everything is fine\n",
    "#Here we create a Database\n",
    "cur.execute(f\"CREATE DATABASE IF NOT EXISTS tweets;\")\n",
    "dbQuery = f\"ALTER DATABASE tweets CHARACTER SET = utf8mb4 COLLATE = utf8mb4_unicode_ci;\"\n",
    "cur.execute(dbQuery)\n",
    "conn.commit()"
   ]
  },
  {
   "cell_type": "code",
   "execution_count": null,
   "metadata": {},
   "outputs": [],
   "source": [
    "#Create a connection with DBName\n",
    "db_dbname = mysql.connect(host='localhost', user='root', password='root',database = \"tweets\")\n",
    "print(db_dbname) # it will print a connection object if everything is fine\n",
    "cursor = db_dbname.cursor()\n",
    "#Create a table with a Primary Key\n",
    "cursor.execute(\"CREATE TABLE TweetInformetn(id INT(11) NOT NULL AUTO_INCREMENT PRIMARY KEY,created_at VARCHAR(1000), source VARCHAR(1000), original_text VARCHAR(200),polarity FLOAT,subjectivity FLOAT,lang VARCHAR(1000),favorite_count INT,retweet_count INT,original_author VARCHAR(1000),followers_count INT,friends_count INT,possibly_sensitive VARCHAR(1000),hashtags VARCHAR(1000),user_mentions VARCHAR(1000),place VARCHAR(100))\")\n",
    "## 'DESC table_name' is used to get all columns information\n",
    "cursor.execute(\"DESC TweetInformation\")\n",
    "\n",
    "## it will print all the columns as 'tuples' in a list\n",
    "print(cursor.fetchall())"
   ]
  },
  {
   "cell_type": "code",
   "execution_count": null,
   "metadata": {},
   "outputs": [],
   "source": [
    "#import data from a CSV file and Print It to Check\n",
    "tweetinformation=pd.read_csv('processed_tweet_data.csv')\n",
    "tweetinformation.head()"
   ]
  },
  {
   "cell_type": "code",
   "execution_count": null,
   "metadata": {},
   "outputs": [],
   "source": [
    "#loop through the data frame\n",
    "for _,row in tweetinformation.iterrows():\n",
    "    #here %S means string values\n",
    "    sql = \"INSERT INTO tweets.TweetInformetn VALUES (%s,%s,%s,%s,%s,%s,%s,%s,%s,%s,%s,%s,%s,%s,%s, %s)\"\n",
    "    sqlQuery = f\"\"\"INSERT IGNORE INTO TweetInformetn(created_at,source,original_text,polarity,subjectivity,lang,favorite_count,retweet_count,original_author,followers_count,friends_count,possibly_sensitive,hashtags,user_mentions,place)VALUES(%s, %s, %s, %s, %s, %s, %s, %s, %s, %s, %s, %s, %s, %s, %s, %s);\"\"\"\n",
    "    data = (row[0], row[1], row[2], row[3], row[4], row[5], row[6], row[7], row[8], row[9], row[10], row[11],row[12], row[13], row[15])\n",
    "    # Execute the SQL command\n",
    "    cursor.execute(sqlQuery, data)\n",
    "    cursor.execute(sql, tuple(row))\n",
    "    print(\"Record inserted\")"
   ]
  },
  {
   "cell_type": "code",
   "execution_count": 23,
   "metadata": {},
   "outputs": [],
   "source": [
    "## defining the Query\n",
    "query = \"SELECT * FROM TweetInformetn\"\n",
    "## getting records from the table\n",
    "cursor.execute(query)\n",
    "## fetching all records from the 'cursor' object\n",
    "records = cursor.fetchall()\n",
    "## Showing the data\n",
    "for record in records:\n",
    "    print(record)"
   ]
  },
  {
   "cell_type": "code",
   "execution_count": null,
   "metadata": {},
   "outputs": [],
   "source": []
  },
  {
   "cell_type": "code",
   "execution_count": null,
   "metadata": {},
   "outputs": [],
   "source": []
  }
 ],
 "metadata": {
  "kernelspec": {
   "display_name": "Python 3 (ipykernel)",
   "language": "python",
   "name": "python3"
  },
  "language_info": {
   "codemirror_mode": {
    "name": "ipython",
    "version": 3
   },
   "file_extension": ".py",
   "mimetype": "text/x-python",
   "name": "python",
   "nbconvert_exporter": "python",
   "pygments_lexer": "ipython3",
   "version": "3.8.13"
  }
 },
 "nbformat": 4,
 "nbformat_minor": 4
}
